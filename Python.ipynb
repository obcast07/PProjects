{
  "nbformat": 4,
  "nbformat_minor": 2,
  "metadata": {
    "colab": {
      "name": "Python.ipynb",
      "provenance": [],
      "collapsed_sections": [
        "kjPospfTgpkm",
        "CBShnhCxjtbV",
        "Jbi0NNSG9ebs",
        "Qp9t9_4Bo9co",
        "rcTgmiWrHEOo"
      ],
      "authorship_tag": "ABX9TyP26a46cuwOK9ATHLwJt3tz",
      "include_colab_link": true
    },
    "kernelspec": {
      "name": "python3",
      "display_name": "Python 3.9.6 64-bit"
    },
    "language_info": {
      "name": "python",
      "version": "3.9.6",
      "mimetype": "text/x-python",
      "codemirror_mode": {
        "name": "ipython",
        "version": 3
      },
      "pygments_lexer": "ipython3",
      "nbconvert_exporter": "python",
      "file_extension": ".py"
    },
    "interpreter": {
      "hash": "1039bb406d0e98032d6395108659664d6dffaac91eaacb0c13025465f2a5d9e9"
    }
  },
  "cells": [
    {
      "cell_type": "markdown",
      "source": [
        "<a href=\"https://colab.research.google.com/github/obcast07/PProjects/blob/main/Python.ipynb\" target=\"_parent\"><img src=\"https://colab.research.google.com/assets/colab-badge.svg\" alt=\"Open In Colab\"/></a>"
      ],
      "metadata": {
        "id": "view-in-github",
        "colab_type": "text"
      }
    },
    {
      "cell_type": "markdown",
      "source": [],
      "metadata": {
        "id": "xOOcOC-EXcnl"
      }
    },
    {
      "cell_type": "markdown",
      "source": [
        "# Ejercicio 1"
      ],
      "metadata": {
        "id": "kjPospfTgpkm"
      }
    },
    {
      "cell_type": "code",
      "execution_count": null,
      "source": [
        "nombre = \"Yael Alejandro García Partida\"\r\n",
        "matricula = \"1797297\"\r\n",
        "\r\n",
        "nombre_completo = nombre +\" \"+ matricula\r\n",
        "print(nombre_completo)"
      ],
      "outputs": [
        {
          "output_type": "stream",
          "name": "stdout",
          "text": [
            "Yael Alejandro García Partida 1797297\n"
          ]
        }
      ],
      "metadata": {
        "colab": {
          "base_uri": "https://localhost:8080/"
        },
        "id": "fzrTynOVXHeH",
        "outputId": "8feeca0a-9c37-4b79-958b-c2057a888d5e"
      }
    },
    {
      "cell_type": "markdown",
      "source": [
        "# Ejercicio 2"
      ],
      "metadata": {
        "id": "CBShnhCxjtbV"
      }
    },
    {
      "cell_type": "code",
      "execution_count": null,
      "source": [
        "def suma(x,y):\r\n",
        "    return x+y\r\n",
        "\r\n",
        "def resta(x,y):\r\n",
        "    return x-y\r\n",
        "\r\n",
        "def multi(x,y):\r\n",
        "    return x* y\r\n",
        "\r\n",
        "def div(x,y):\r\n",
        "    return x/y\r\n",
        "\r\n",
        "print(\"Elige la operación.\")\r\n",
        "\r\n",
        "print(\"1.Suma\")\r\n",
        "print(\"2.Resta\")\r\n",
        "print(\"3.Multiplicación\")\r\n",
        "print(\"4.División\")\r\n",
        "print(\"5.Exponentes\")\r\n",
        "print(\"6.Salir\")\r\n",
        "\r\n",
        "while True:\r\n",
        "    opc = input(\"Ingresa la opcion (1|2|3|4|5|6): \")\r\n",
        "    if opc in ('1','2','3','4','5','6'):\r\n",
        "        num1 = float(input(\"Ingresa el primer numero: \"))\r\n",
        "        num2 = float(input(\"Ingresa el segundo numero: \"))\r\n",
        "\r\n",
        "        if opc =='1':\r\n",
        "            print(num1, \"+\", num2, \"=\", suma(num1,num2))\r\n",
        "\r\n",
        "        elif opc == '2':\r\n",
        "            print(num1, \"-\", num2, \"=\", resta(num1, num2))\r\n",
        "        \r\n",
        "        elif opc == '3':\r\n",
        "            print(num1, \"*\", num2, \"=\", multi(num1, num2))\r\n",
        "\r\n",
        "        elif opc == '4':\r\n",
        "            print(num1, \"/\", num2, \"=\", div(num1, num2))\r\n",
        "        elif opc == '5':\r\n",
        "            print(num1, \"**\", num2, \"=\", pow(num1,num2))\r\n",
        "        elif opc == '6':\r\n",
        "            print(\"Fin\")\r\n",
        "            break \r\n",
        "            \r\n",
        "          \r\n",
        "            "
      ],
      "outputs": [
        {
          "output_type": "stream",
          "name": "stdout",
          "text": [
            "Elige la operación.\n",
            "1.Suma\n",
            "2.Resta\n",
            "3.Multiplicación\n",
            "4.División\n",
            "5.Exponentes\n",
            "6.Salir\n",
            "Ingresa la opcion (1|2|3|4|5|6): 6\n",
            "Ingresa el primer numero: 2\n",
            "Ingresa el segundo numero: 3\n",
            "Fin\n"
          ]
        }
      ],
      "metadata": {
        "colab": {
          "base_uri": "https://localhost:8080/"
        },
        "id": "P9efNcg4jySH",
        "outputId": "aefcdff7-82e4-4db6-e2fd-09751a4ecf16"
      }
    },
    {
      "cell_type": "markdown",
      "source": [
        "# Ejercicio 3"
      ],
      "metadata": {
        "id": "Jbi0NNSG9ebs"
      }
    },
    {
      "cell_type": "code",
      "execution_count": 22,
      "source": [
        "i=0\r\n",
        "lista=[]\r\n",
        "while i<10:\r\n",
        "    numero= int(input(\"Ingrese un numero multiplo de 3: \")) \r\n",
        "    if numero%3 == 0:\r\n",
        "        lista.append(numero)\r\n",
        "        i=i+1\r\n",
        "    else :print(\"No es multiplo de 3\")\r\n",
        "\r\n",
        "print(\"los numeros ingresados fueron: \",lista)\r\n",
        "\r\n",
        "sumatoria=0\r\n",
        "for num in lista: \r\n",
        "    sumatoria += num\r\n",
        "\r\n",
        "print(sumatoria)\r\n",
        "\r\n",
        "       \r\n"
      ],
      "outputs": [
        {
          "output_type": "stream",
          "name": "stdout",
          "text": [
            "Ingrese un numero multiplo de 3: 1\n",
            "No es multiplo de 3\n",
            "Ingrese un numero multiplo de 3: 3\n",
            "Ingrese un numero multiplo de 3: 6\n",
            "Ingrese un numero multiplo de 3: 9\n",
            "Ingrese un numero multiplo de 3: 12\n",
            "Ingrese un numero multiplo de 3: 15\n",
            "Ingrese un numero multiplo de 3: 18\n",
            "Ingrese un numero multiplo de 3: 21\n",
            "Ingrese un numero multiplo de 3: 24\n",
            "Ingrese un numero multiplo de 3: 27\n",
            "Ingrese un numero multiplo de 3: 30\n",
            "los numeros ingresados fueron:  [3, 6, 9, 12, 15, 18, 21, 24, 27, 30]\n",
            "165\n"
          ]
        }
      ],
      "metadata": {
        "colab": {
          "base_uri": "https://localhost:8080/"
        },
        "id": "3VxTcvb79gLq",
        "outputId": "bec2c8db-583f-4224-804f-965859defcea"
      }
    },
    {
      "cell_type": "markdown",
      "source": [
        "# Ejercicio 4"
      ],
      "metadata": {
        "id": "Qp9t9_4Bo9co"
      }
    },
    {
      "cell_type": "code",
      "execution_count": 17,
      "source": [
        "def es_par(a):\r\n",
        "    if a % 2 == 0:\r\n",
        "        return print(\"El número\", a, \"es par.\")\r\n",
        "\r\n",
        "    else:\r\n",
        "         return print(\"El número\", a, \"es impar.\")\r\n",
        "\r\n",
        "par= int(input(\"Ingresa un número: \"))\r\n",
        "\r\n",
        "es_par(par)"
      ],
      "outputs": [
        {
          "output_type": "stream",
          "name": "stdout",
          "text": [
            "Ingresa un número: 3\n",
            "El número 3 es impar.\n"
          ]
        }
      ],
      "metadata": {
        "colab": {
          "base_uri": "https://localhost:8080/"
        },
        "id": "RiD6Wl767bTP",
        "outputId": "400a4bb3-bc56-43f8-c423-c32ae6336b73"
      }
    },
    {
      "cell_type": "code",
      "execution_count": 19,
      "source": [
        "\r\n",
        "\r\n",
        "def es_primo(num, n=2):\r\n",
        "    if n >= num:\r\n",
        "        print(\"Es primo\")\r\n",
        "        return True\r\n",
        "    elif num % n != 0:\r\n",
        "        return es_primo(num, n + 1)\r\n",
        "    else:\r\n",
        "        print(\"No es primo, el número\", n, \"es divisor\")\r\n",
        "        return False\r\n",
        "\r\n",
        "numero = int(input(\"Ingrese un número: \"))\r\n",
        "\r\n",
        "es_primo(numero)"
      ],
      "outputs": [
        {
          "output_type": "stream",
          "name": "stdout",
          "text": [
            "Ingrese un número: 56\n",
            "No es primo, el numero 2 es divisor\n"
          ]
        },
        {
          "output_type": "execute_result",
          "data": {
            "text/plain": [
              "False"
            ]
          },
          "metadata": {},
          "execution_count": 19
        }
      ],
      "metadata": {
        "colab": {
          "base_uri": "https://localhost:8080/"
        },
        "id": "b9uEdrpEsIVJ",
        "outputId": "189464c9-c07f-4875-cb0a-59eb2444035c"
      }
    },
    {
      "cell_type": "markdown",
      "source": [
        "# Ejercicio 5"
      ],
      "metadata": {
        "id": "rcTgmiWrHEOo"
      }
    },
    {
      "cell_type": "markdown",
      "source": [
        "### Clase funciones"
      ],
      "metadata": {
        "id": "RUc89d4pHHMu"
      }
    },
    {
      "cell_type": "code",
      "execution_count": 23,
      "source": [
        "class funciones:\r\n",
        "    def suma(a,b):\r\n",
        "        return a + b\r\n",
        "    def resta(a,b):\r\n",
        "        return a-b\r\n",
        "    def multi(a,b):\r\n",
        "        return a * b\r\n",
        "    def división(a,b):\r\n",
        "        while b>0:\r\n",
        "            return a/b\r\n",
        "        else: b= int(input(\"Ingrese un valor mayor a 0: \"))\r\n",
        "    def exp(a,b):\r\n",
        "        return a ** b\r\n",
        "        pass\r\n",
        "    "
      ],
      "outputs": [],
      "metadata": {
        "id": "Id_4T06EHJRz"
      }
    },
    {
      "cell_type": "markdown",
      "source": [
        "### Importación y calculadora"
      ],
      "metadata": {
        "id": "xN3cJMsQHKfp"
      }
    },
    {
      "cell_type": "code",
      "execution_count": 25,
      "source": [
        "import funciones\r\n",
        "\r\n",
        "print(\"Ingrese 2 números: \")\r\n",
        "a=int(input(\"Primer número: \"))\r\n",
        "b=int(input(\"Segundo número: \"))\r\n",
        "\r\n",
        "print(\"Elige la operación.\")\r\n",
        "\r\n",
        "print(\"1.Suma\")\r\n",
        "print(\"2.Resta\")\r\n",
        "print(\"3.Multiplicación\")\r\n",
        "print(\"4.División\")\r\n",
        "print(\"5.Exponentes\")\r\n",
        "\r\n",
        "while True:\r\n",
        "    opc = input(\"Ingresa la opcion (1|2|3|4|5): \")\r\n",
        "    if opc in ('1','2','3','4','5'):\r\n",
        "        num1 = float(input(\"Ingresa el primer numero: \"))\r\n",
        "        num2 = float(input(\"Ingresa el segundo numero: \"))\r\n",
        "\r\n",
        "        if opc =='1':\r\n",
        "            print(num1, \"+\", num2, \"=\", funciones.suma(num1,num2))\r\n",
        "\r\n",
        "        elif opc == '2':\r\n",
        "            print(num1, \"-\", num2, \"=\", funciones.resta(num1, num2))\r\n",
        "        \r\n",
        "        elif opc == '3':\r\n",
        "            print(num1, \"*\", num2, \"=\", funciones.multi(num1, num2))\r\n",
        "\r\n",
        "        elif opc == '4':\r\n",
        "            print(num1, \"/\", num2, \"=\", funciones.div(num1, num2))\r\n",
        "        elif opc == '5':\r\n",
        "            print(num1, \"**\", num2, \"=\", funciones.exp(num1,num2))\r\n",
        "        \r\n",
        "        else: print(\"opcion inválida\")\r\n",
        "            \r\n",
        "            "
      ],
      "outputs": [
        {
          "output_type": "error",
          "ename": "ModuleNotFoundError",
          "evalue": "ignored",
          "traceback": [
            "\u001b[0;31m---------------------------------------------------------------------------\u001b[0m",
            "\u001b[0;31mModuleNotFoundError\u001b[0m                       Traceback (most recent call last)",
            "\u001b[0;32m<ipython-input-25-e7654565551e>\u001b[0m in \u001b[0;36m<module>\u001b[0;34m()\u001b[0m\n\u001b[1;32m     14\u001b[0m         \u001b[0;32mpass\u001b[0m\u001b[0;34m\u001b[0m\u001b[0;34m\u001b[0m\u001b[0m\n\u001b[1;32m     15\u001b[0m \u001b[0;34m\u001b[0m\u001b[0m\n\u001b[0;32m---> 16\u001b[0;31m \u001b[0;32mimport\u001b[0m \u001b[0mfunciones\u001b[0m\u001b[0;34m\u001b[0m\u001b[0;34m\u001b[0m\u001b[0m\n\u001b[0m\u001b[1;32m     17\u001b[0m \u001b[0;34m\u001b[0m\u001b[0m\n\u001b[1;32m     18\u001b[0m \u001b[0mprint\u001b[0m\u001b[0;34m(\u001b[0m\u001b[0;34m\"Ingrese 2 números: \"\u001b[0m\u001b[0;34m)\u001b[0m\u001b[0;34m\u001b[0m\u001b[0;34m\u001b[0m\u001b[0m\n",
            "\u001b[0;31mModuleNotFoundError\u001b[0m: No module named 'funciones'",
            "",
            "\u001b[0;31m---------------------------------------------------------------------------\u001b[0;32m\nNOTE: If your import is failing due to a missing package, you can\nmanually install dependencies using either !pip or !apt.\n\nTo view examples of installing some common dependencies, click the\n\"Open Examples\" button below.\n\u001b[0;31m---------------------------------------------------------------------------\u001b[0m\n"
          ]
        }
      ],
      "metadata": {
        "colab": {
          "base_uri": "https://localhost:8080/",
          "height": 367
        },
        "id": "RTyL9_9-HPIt",
        "outputId": "db629059-1159-43e3-8ea2-3dc51ae62713"
      }
    },
    {
      "cell_type": "markdown",
      "source": [
        "# Tuplas - Extras"
      ],
      "metadata": {}
    },
    {
      "cell_type": "code",
      "execution_count": 2,
      "source": [
        "#Tuplas\r\n",
        "# 1.- Crear una variable flotante, integer, boleana y compleja e imprimir el tipo de varibale que es\r\n",
        "\r\n",
        "var1 = 15.67\r\n",
        "var2 = 15\r\n",
        "var3 = True\r\n",
        "var4 = 1+ 5j\r\n",
        "\r\n",
        "print(\"Var 1 es \", type(var1))\r\n",
        "\r\n",
        "print(\"Var 2 es \", type(var2))\r\n",
        "print(\"Var 3 es \", type(var3))\r\n",
        "print(\"Var 4 es \", type(var4))\r\n",
        "\r\n"
      ],
      "outputs": [
        {
          "output_type": "stream",
          "name": "stdout",
          "text": [
            "Var 1 es  <class 'float'>\n",
            "Var 2 es  <class 'int'>\n",
            "Var 3 es  <class 'bool'>\n",
            "Var 4 es  <class 'complex'>\n"
          ]
        }
      ],
      "metadata": {}
    },
    {
      "cell_type": "code",
      "execution_count": 3,
      "source": [
        "# 2.- Crear una tupla con valores enteros imprimir el primer y ultimo valor\r\n",
        "\r\n",
        "b= (1,2,3,4,5,6)\r\n",
        "\r\n",
        "\r\n",
        "\r\n",
        "print(\"El primer y último número son: \",b[0],\" y \", b[-1])\r\n",
        "\r\n",
        "\r\n"
      ],
      "outputs": [
        {
          "output_type": "stream",
          "name": "stdout",
          "text": [
            "El primer y último número son:  1  y  6\n"
          ]
        }
      ],
      "metadata": {}
    },
    {
      "cell_type": "code",
      "execution_count": 4,
      "source": [
        "# 3.- Añadir 3 valores de string a la tupla\r\n",
        "# Hay 2 maneras, la primera es crear una tupla con los strings y concatenar\r\n",
        "b= (1,2,3,4,5,6)\r\n",
        "\r\n",
        "c= (\"Anita\",\"lava la\", \"tina\")\r\n",
        "\r\n",
        "b=b+c\r\n",
        "\r\n",
        "print(b)\r\n",
        "\r\n"
      ],
      "outputs": [
        {
          "output_type": "stream",
          "name": "stdout",
          "text": [
            "(1, 2, 3, 4, 5, 6, 'Anita', 'lava la', 'tina')\n"
          ]
        }
      ],
      "metadata": {}
    },
    {
      "cell_type": "code",
      "execution_count": 6,
      "source": [
        "# 4.- Verificar si una variable existe dentro de una tupla\r\n",
        "\r\n",
        "\r\n",
        "b= (1,2,3,4,5,6)\r\n",
        "\r\n",
        "c= (\"Anita\",\"lava la\", \"tina\")\r\n",
        "\r\n",
        "a=b+c\r\n",
        "\r\n",
        "if 4 in c:\r\n",
        "    print(\"True\")\r\n",
        "else: print(\"false\")\r\n",
        "\r\n",
        "if 4 in b:\r\n",
        "    print(\"True\")\r\n",
        "else: print(\"False\")\r\n"
      ],
      "outputs": [
        {
          "output_type": "stream",
          "name": "stdout",
          "text": [
            "false\n",
            "True\n"
          ]
        }
      ],
      "metadata": {}
    }
  ]
}