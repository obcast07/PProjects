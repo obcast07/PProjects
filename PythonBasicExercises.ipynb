{
  "nbformat": 4,
  "nbformat_minor": 0,
  "metadata": {
    "colab": {
      "name": "Python.ipynb",
      "provenance": [],
      "collapsed_sections": [
        "kjPospfTgpkm",
        "CBShnhCxjtbV",
        "Jbi0NNSG9ebs",
        "Qp9t9_4Bo9co",
        "rcTgmiWrHEOo"
      ],
      "authorship_tag": "ABX9TyPqtUceDqqAnPCMg8gx87tb",
      "include_colab_link": true
    },
    "kernelspec": {
      "name": "python3",
      "display_name": "Python 3"
    },
    "language_info": {
      "name": "python"
    }
  },
  "cells": [
    {
      "cell_type": "markdown",
      "metadata": {
        "id": "view-in-github",
        "colab_type": "text"
      },
      "source": [
        "<a href=\"https://colab.research.google.com/github/obcast07/PProjects/blob/main/PythonBasicExercises.ipynb\" target=\"_parent\"><img src=\"https://colab.research.google.com/assets/colab-badge.svg\" alt=\"Open In Colab\"/></a>"
      ]
    },
    {
      "cell_type": "markdown",
      "metadata": {
        "id": "xOOcOC-EXcnl"
      },
      "source": [
        ""
      ]
    },
    {
      "cell_type": "markdown",
      "metadata": {
        "id": "kjPospfTgpkm"
      },
      "source": [
        "# Ejercicio 1"
      ]
    },
    {
      "cell_type": "code",
      "metadata": {
        "colab": {
          "base_uri": "https://localhost:8080/"
        },
        "id": "fzrTynOVXHeH",
        "outputId": "8feeca0a-9c37-4b79-958b-c2057a888d5e"
      },
      "source": [
        "nombre = \"Yael Alejandro García Partida\"\n",
        "matricula = \"1797297\"\n",
        "\n",
        "nombre_completo = nombre +\" \"+ matricula\n",
        "print(nombre_completo)"
      ],
      "execution_count": null,
      "outputs": [
        {
          "output_type": "stream",
          "text": [
            "Yael Alejandro García Partida 1797297\n"
          ],
          "name": "stdout"
        }
      ]
    },
    {
      "cell_type": "markdown",
      "metadata": {
        "id": "CBShnhCxjtbV"
      },
      "source": [
        "# Ejercicio 2"
      ]
    },
    {
      "cell_type": "code",
      "metadata": {
        "colab": {
          "base_uri": "https://localhost:8080/"
        },
        "id": "P9efNcg4jySH",
        "outputId": "aefcdff7-82e4-4db6-e2fd-09751a4ecf16"
      },
      "source": [
        "def suma(x,y):\n",
        "    return x+y\n",
        "\n",
        "def resta(x,y):\n",
        "    return x-y\n",
        "\n",
        "def multi(x,y):\n",
        "    return x* y\n",
        "\n",
        "def div(x,y):\n",
        "    return x/y\n",
        "\n",
        "print(\"Elige la operación.\")\n",
        "\n",
        "print(\"1.Suma\")\n",
        "print(\"2.Resta\")\n",
        "print(\"3.Multiplicación\")\n",
        "print(\"4.División\")\n",
        "print(\"5.Exponentes\")\n",
        "print(\"6.Salir\")\n",
        "\n",
        "while True:\n",
        "    opc = input(\"Ingresa la opcion (1|2|3|4|5|6): \")\n",
        "    if opc in ('1','2','3','4','5','6'):\n",
        "        num1 = float(input(\"Ingresa el primer numero: \"))\n",
        "        num2 = float(input(\"Ingresa el segundo numero: \"))\n",
        "\n",
        "        if opc =='1':\n",
        "            print(num1, \"+\", num2, \"=\", suma(num1,num2))\n",
        "\n",
        "        elif opc == '2':\n",
        "            print(num1, \"-\", num2, \"=\", resta(num1, num2))\n",
        "        \n",
        "        elif opc == '3':\n",
        "            print(num1, \"*\", num2, \"=\", multi(num1, num2))\n",
        "\n",
        "        elif opc == '4':\n",
        "            print(num1, \"/\", num2, \"=\", div(num1, num2))\n",
        "        elif opc == '5':\n",
        "            print(num1, \"**\", num2, \"=\", pow(num1,num2))\n",
        "        elif opc == '6':\n",
        "            print(\"Fin\")\n",
        "            break \n",
        "            \n",
        "          \n",
        "            "
      ],
      "execution_count": null,
      "outputs": [
        {
          "output_type": "stream",
          "text": [
            "Elige la operación.\n",
            "1.Suma\n",
            "2.Resta\n",
            "3.Multiplicación\n",
            "4.División\n",
            "5.Exponentes\n",
            "6.Salir\n",
            "Ingresa la opcion (1|2|3|4|5|6): 6\n",
            "Ingresa el primer numero: 2\n",
            "Ingresa el segundo numero: 3\n",
            "Fin\n"
          ],
          "name": "stdout"
        }
      ]
    },
    {
      "cell_type": "markdown",
      "metadata": {
        "id": "Jbi0NNSG9ebs"
      },
      "source": [
        "# Ejercicio 3"
      ]
    },
    {
      "cell_type": "code",
      "metadata": {
        "colab": {
          "base_uri": "https://localhost:8080/"
        },
        "id": "3VxTcvb79gLq",
        "outputId": "bec2c8db-583f-4224-804f-965859defcea"
      },
      "source": [
        "i=0\n",
        "lista=[]\n",
        "while i<10:\n",
        "    numero= int(input(\"Ingrese un numero multiplo de 3: \")) \n",
        "    if numero%3 == 0:\n",
        "        lista.append(numero)\n",
        "        i=i+1\n",
        "    else :print(\"No es multiplo de 3\")\n",
        "\n",
        "print(\"los numeros ingresados fueron: \",lista)\n",
        "\n",
        "sumatoria=0\n",
        "for num in lista: \n",
        "    sumatoria += num\n",
        "\n",
        "print(sumatoria)\n",
        "\n",
        "       \n"
      ],
      "execution_count": 22,
      "outputs": [
        {
          "output_type": "stream",
          "text": [
            "Ingrese un numero multiplo de 3: 1\n",
            "No es multiplo de 3\n",
            "Ingrese un numero multiplo de 3: 3\n",
            "Ingrese un numero multiplo de 3: 6\n",
            "Ingrese un numero multiplo de 3: 9\n",
            "Ingrese un numero multiplo de 3: 12\n",
            "Ingrese un numero multiplo de 3: 15\n",
            "Ingrese un numero multiplo de 3: 18\n",
            "Ingrese un numero multiplo de 3: 21\n",
            "Ingrese un numero multiplo de 3: 24\n",
            "Ingrese un numero multiplo de 3: 27\n",
            "Ingrese un numero multiplo de 3: 30\n",
            "los numeros ingresados fueron:  [3, 6, 9, 12, 15, 18, 21, 24, 27, 30]\n",
            "165\n"
          ],
          "name": "stdout"
        }
      ]
    },
    {
      "cell_type": "markdown",
      "metadata": {
        "id": "Qp9t9_4Bo9co"
      },
      "source": [
        "# Ejercicio 4"
      ]
    },
    {
      "cell_type": "code",
      "metadata": {
        "colab": {
          "base_uri": "https://localhost:8080/"
        },
        "id": "RiD6Wl767bTP",
        "outputId": "400a4bb3-bc56-43f8-c423-c32ae6336b73"
      },
      "source": [
        "def es_par(a):\n",
        "    if a % 2 == 0:\n",
        "        return print(\"El número\", a, \"es par.\")\n",
        "\n",
        "    else:\n",
        "         return print(\"El número\", a, \"es impar.\")\n",
        "\n",
        "par= int(input(\"Ingresa un número: \"))\n",
        "\n",
        "es_par(par)"
      ],
      "execution_count": 17,
      "outputs": [
        {
          "output_type": "stream",
          "text": [
            "Ingresa un número: 3\n",
            "El número 3 es impar.\n"
          ],
          "name": "stdout"
        }
      ]
    },
    {
      "cell_type": "code",
      "metadata": {
        "colab": {
          "base_uri": "https://localhost:8080/"
        },
        "id": "b9uEdrpEsIVJ",
        "outputId": "189464c9-c07f-4875-cb0a-59eb2444035c"
      },
      "source": [
        "\n",
        "\n",
        "def es_primo(num, n=2):\n",
        "    if n >= num:\n",
        "        print(\"Es primo\")\n",
        "        return True\n",
        "    elif num % n != 0:\n",
        "        return es_primo(num, n + 1)\n",
        "    else:\n",
        "        print(\"No es primo, el número\", n, \"es divisor\")\n",
        "        return False\n",
        "\n",
        "numero = int(input(\"Ingrese un número: \"))\n",
        "\n",
        "es_primo(numero)"
      ],
      "execution_count": 19,
      "outputs": [
        {
          "output_type": "stream",
          "text": [
            "Ingrese un número: 56\n",
            "No es primo, el numero 2 es divisor\n"
          ],
          "name": "stdout"
        },
        {
          "output_type": "execute_result",
          "data": {
            "text/plain": [
              "False"
            ]
          },
          "metadata": {},
          "execution_count": 19
        }
      ]
    },
    {
      "cell_type": "markdown",
      "metadata": {
        "id": "rcTgmiWrHEOo"
      },
      "source": [
        "# Ejercicio 5"
      ]
    },
    {
      "cell_type": "markdown",
      "metadata": {
        "id": "RUc89d4pHHMu"
      },
      "source": [
        "### Clase funciones"
      ]
    },
    {
      "cell_type": "code",
      "metadata": {
        "id": "Id_4T06EHJRz"
      },
      "source": [
        "class funciones:\n",
        "    def suma(a,b):\n",
        "        return a + b\n",
        "    def resta(a,b):\n",
        "        return a-b\n",
        "    def multi(a,b):\n",
        "        return a * b\n",
        "    def división(a,b):\n",
        "        while b>0:\n",
        "            return a/b\n",
        "        else: b= int(input(\"Ingrese un valor mayor a 0: \"))\n",
        "    def exp(a,b):\n",
        "        return a ** b\n",
        "        \n",
        "    "
      ],
      "execution_count": null,
      "outputs": []
    },
    {
      "cell_type": "markdown",
      "metadata": {
        "id": "xN3cJMsQHKfp"
      },
      "source": [
        "### Importación y calculadora"
      ]
    },
    {
      "cell_type": "code",
      "metadata": {
        "id": "RTyL9_9-HPIt"
      },
      "source": [
        "import funciones\n",
        "\n",
        "print(\"Ingrese 2 números: \")\n",
        "a=int(input(\"Primer número: \"))\n",
        "b=int(input(\"Segundo número: \"))\n",
        "\n",
        "print(\"Elige la operación.\")\n",
        "\n",
        "print(\"1.Suma\")\n",
        "print(\"2.Resta\")\n",
        "print(\"3.Multiplicación\")\n",
        "print(\"4.División\")\n",
        "print(\"5.Exponentes\")\n",
        "\n",
        "while True:\n",
        "    opc = input(\"Ingresa la opcion (1|2|3|4|5): \")\n",
        "    if opc in ('1','2','3','4','5'):\n",
        "        num1 = float(input(\"Ingresa el primer numero: \"))\n",
        "        num2 = float(input(\"Ingresa el segundo numero: \"))\n",
        "\n",
        "        if opc =='1':\n",
        "            print(num1, \"+\", num2, \"=\", funciones.suma(num1,num2))\n",
        "\n",
        "        elif opc == '2':\n",
        "            print(num1, \"-\", num2, \"=\", funciones.resta(num1, num2))\n",
        "        \n",
        "        elif opc == '3':\n",
        "            print(num1, \"*\", num2, \"=\", funciones.multi(num1, num2))\n",
        "\n",
        "        elif opc == '4':\n",
        "            print(num1, \"/\", num2, \"=\", funciones.div(num1, num2))\n",
        "        elif opc == '5':\n",
        "            print(num1, \"**\", num2, \"=\", funciones.exp(num1,num2))\n",
        "        \n",
        "        else: print(\"opcion inválida\")\n",
        "            \n",
        "            "
      ],
      "execution_count": null,
      "outputs": []
    }
  ]
}