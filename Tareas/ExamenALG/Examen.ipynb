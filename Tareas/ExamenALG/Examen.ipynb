{
 "cells": [
  {
   "cell_type": "markdown",
   "metadata": {},
   "source": [
    "# Define una clase"
   ]
  },
  {
   "cell_type": "code",
   "execution_count": 4,
   "metadata": {},
   "outputs": [],
   "source": [
    "\n",
    "class Alumno:\n",
    "    \n",
    "\n",
    "    def saludar(self):\n",
    "        \"\"\"Imprime un saludo en pantalla\"\"\"\n",
    "        print(\"Hola, mundo\")\n",
    "\n",
    "\n"
   ]
  },
  {
   "cell_type": "markdown",
   "metadata": {},
   "source": [
    "# Métodos privados"
   ]
  },
  {
   "cell_type": "code",
   "execution_count": 6,
   "metadata": {},
   "outputs": [
    {
     "name": "stdout",
     "output_type": "stream",
     "text": [
      "1\n",
      "Hola, mundo!\n"
     ]
    }
   ],
   "source": [
    "class Miclase:\n",
    "    def __init__(self):\n",
    "        self._atributo_privado=1\n",
    "    def _metodo_privado(self):\n",
    "        print(\"Hola, mundo!\")\n",
    "\n",
    "# Como convención se prefija un guión bajo para indicar que un objeto debería ser interpretado -por el programador-\n",
    "# como privado, ya que Python no distingue entre métodos o atributos públicos y privados\n",
    "\n",
    "mi_objeto = Miclase()\n",
    "print(mi_objeto._atributo_privado)\n",
    "mi_objeto._metodo_privado()\n"
   ]
  },
  {
   "cell_type": "markdown",
   "metadata": {},
   "source": [
    "# Método Público"
   ]
  },
  {
   "cell_type": "code",
   "execution_count": 5,
   "metadata": {},
   "outputs": [
    {
     "name": "stdout",
     "output_type": "stream",
     "text": [
      "Hola, mundo\n"
     ]
    }
   ],
   "source": [
    "class Alumno:\n",
    "    \n",
    "\n",
    "    def saludar(self):\n",
    "        \"\"\"Imprime un saludo en pantalla\"\"\"\n",
    "        print(\"Hola, mundo\")\n",
    "\n",
    "alumno = Alumno()\n",
    "alumno.saludar()"
   ]
  },
  {
   "cell_type": "markdown",
   "metadata": {},
   "source": [
    "# Array"
   ]
  },
  {
   "cell_type": "code",
   "execution_count": 2,
   "metadata": {},
   "outputs": [
    {
     "name": "stdout",
     "output_type": "stream",
     "text": [
      "[1, 2, True, 'Hola', 5.8]\n",
      "[4, 9, False, 'texto']\n"
     ]
    }
   ],
   "source": [
    "\n",
    "\n",
    "listaConElementos = [1, 2, True, 'Hola', 5.8]\n",
    "\n",
    "otraLista = list([4, 9, False, 'texto'])\n",
    "\n",
    "print(listaConElementos)\n",
    "print(otraLista)\n"
   ]
  },
  {
   "cell_type": "markdown",
   "metadata": {},
   "source": [
    "# Diccionario"
   ]
  },
  {
   "cell_type": "code",
   "execution_count": null,
   "metadata": {},
   "outputs": [],
   "source": [
    "\n",
    "diccionario = {'nombre' : 'Carlos', 'edad' : 22, 'cursos': ['Python','Django','JavaScript'] }\n",
    "\n",
    "print(diccionario['nombre'])\n"
   ]
  },
  {
   "cell_type": "markdown",
   "metadata": {},
   "source": [
    "# Herencia"
   ]
  },
  {
   "cell_type": "code",
   "execution_count": 12,
   "metadata": {},
   "outputs": [
    {
     "name": "stdout",
     "output_type": "stream",
     "text": [
      "Perro\n",
      "(<class '__main__.Animal'>,)\n",
      "Animal\n",
      "[<class '__main__.Perro'>]\n"
     ]
    }
   ],
   "source": [
    "# Definimos una clase padre\n",
    "class Animal:\n",
    "    pass\n",
    "# Creamos una clase hija que herede de la padre\n",
    "class Perro(Animal):\n",
    "    pass\n",
    "\n",
    "# Podemos apreciar ésto en:\n",
    "print(\"Perro\")\n",
    "print(Perro.__bases__)\n",
    "\n",
    "\n",
    "# Ahora al revés en:\n",
    "print(\"Animal\")\n",
    "print(Animal.__subclasses__())"
   ]
  },
  {
   "cell_type": "markdown",
   "metadata": {},
   "source": [
    "# Instanciar una clase"
   ]
  },
  {
   "cell_type": "code",
   "execution_count": 14,
   "metadata": {},
   "outputs": [
    {
     "name": "stdout",
     "output_type": "stream",
     "text": [
      "100\n",
      "50\n"
     ]
    }
   ],
   "source": [
    "class Perros (object):\n",
    "    'Clase para los perros' #Descripcion\n",
    "    Collar = True #Variable de clase Estática\n",
    "    def __init__(self, salud, hambre):\n",
    "        self.salud = salud #Variable de Instancia\n",
    "        self.hambre = hambre #Variable de Instancia\n",
    "# print (Perros.hambre) #-> No puedes acceder de esta manera porque hambre es una variable de instancia\n",
    "#Debes instanciar:\n",
    "\n",
    "Dogo = Perros(100, 50)\n",
    "print(Dogo.salud)\n",
    "print(Dogo.hambre)"
   ]
  }
 ],
 "metadata": {
  "interpreter": {
   "hash": "87e221df162d74ad4ff2e754c8b92247df0e10d6650eceded9ae3b675105890c"
  },
  "kernelspec": {
   "display_name": "Python 3.10.0 64-bit",
   "name": "python3"
  },
  "language_info": {
   "codemirror_mode": {
    "name": "ipython",
    "version": 3
   },
   "file_extension": ".py",
   "mimetype": "text/x-python",
   "name": "python",
   "nbconvert_exporter": "python",
   "pygments_lexer": "ipython3",
   "version": "3.10.0"
  },
  "orig_nbformat": 4
 },
 "nbformat": 4,
 "nbformat_minor": 2
}
