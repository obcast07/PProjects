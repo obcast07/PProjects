{
 "cells": [
  {
   "cell_type": "markdown",
   "source": [
    "# Extras Listas"
   ],
   "metadata": {}
  },
  {
   "cell_type": "code",
   "execution_count": 5,
   "source": [
    "#Crear una lista con 40 elementos aleatorios enteros\r\n",
    "\r\n",
    "#Usamos randint(a,b) perteneciente al módulo random y probablemente algún ciclo para limitar el número a 40\r\n",
    "import random\r\n",
    "\r\n",
    "listaAleatorios = [random.randint(0,1000) for i in range(40)]\r\n",
    "print(listaAleatorios)\r\n",
    "\r\n",
    "\r\n"
   ],
   "outputs": [
    {
     "output_type": "stream",
     "name": "stdout",
     "text": [
      "[862, 978, 673, 159, 453, 597, 548, 762, 728, 331, 46, 235, 251, 274, 685, 60, 777, 775, 5, 699, 809, 524, 998, 398, 379, 408, 440, 247, 547, 85, 777, 97, 139, 53, 286, 171, 857, 502, 934, 574]\n"
     ]
    }
   ],
   "metadata": {}
  },
  {
   "cell_type": "code",
   "execution_count": 8,
   "source": [
    "# Con una funcion (def) crear dos listas nuevas a partir de la lista creada por numeros aleatorios,\r\n",
    "# en la cual en una esten los elementos pares, y en la otra los elementos impares.\r\n",
    "\r\n",
    "#Vamos a reutilizar nuestro método para la lista pasada y \r\n",
    "\r\n",
    "import random\r\n",
    "def crear():\r\n",
    "    listaAleatorios = [random.randint(0,1000) for i in range(40)]\r\n",
    "    return listaAleatorios\r\n",
    "\r\n",
    "def generarListas(listaAleatorios):\r\n",
    "    pares=[]\r\n",
    "    impares=[]\r\n",
    "    for x in range(len(listaAleatorios)):\r\n",
    "        if listaAleatorios[x]%2==0:\r\n",
    "            pares.append(listaAleatorios[x])\r\n",
    "        else: impares.append(listaAleatorios[x])\r\n",
    "\r\n",
    "    return[pares,impares]\r\n",
    "\r\n",
    "def imprimir(lista):\r\n",
    "    for x in range(len(lista)):\r\n",
    "        print(lista[x])\r\n",
    "\r\n",
    "#main\r\n",
    "lista=crear()\r\n",
    "pares, impares=generarListas(lista)\r\n",
    "print(\"Lista con los pares\")\r\n",
    "imprimir(pares)\r\n",
    "print(\"Lista con los impares\")\r\n",
    "imprimir(impares)"
   ],
   "outputs": [
    {
     "output_type": "stream",
     "name": "stdout",
     "text": [
      "Lista con los pares\n",
      "248\n",
      "558\n",
      "900\n",
      "592\n",
      "46\n",
      "70\n",
      "90\n",
      "110\n",
      "810\n",
      "226\n",
      "308\n",
      "704\n",
      "448\n",
      "916\n",
      "682\n",
      "268\n",
      "240\n",
      "504\n",
      "Lista con los impares\n",
      "541\n",
      "593\n",
      "473\n",
      "853\n",
      "197\n",
      "807\n",
      "39\n",
      "935\n",
      "719\n",
      "267\n",
      "845\n",
      "841\n",
      "789\n",
      "741\n",
      "103\n",
      "239\n",
      "913\n",
      "245\n",
      "89\n",
      "801\n",
      "377\n",
      "703\n"
     ]
    }
   ],
   "metadata": {}
  },
  {
   "cell_type": "code",
   "execution_count": 10,
   "source": [
    "#Crear dos variables con la longitud de ambas listas nuevas e imprimir las variables.\r\n",
    "longitudPar = len(pares)\r\n",
    "longitudImpar = len(impares)\r\n",
    "\r\n",
    "print(\"La longitud de la lista par es\", longitudPar)\r\n",
    "print(\"La longitud de la lista impar es\", longitudImpar)\r\n"
   ],
   "outputs": [
    {
     "output_type": "stream",
     "name": "stdout",
     "text": [
      "La longitud de la lista par es 18\n",
      "La longitud de la lista impar es 22\n"
     ]
    }
   ],
   "metadata": {}
  },
  {
   "cell_type": "code",
   "execution_count": 12,
   "source": [
    "#Ordenar los elementos de la lista par de mayor a menor, y los de la lista impar de menor a mayor.\r\n",
    "pares.sort()\r\n",
    "impares.sort(reverse=True)\r\n",
    "\r\n",
    "print(\"Pares de mayor a menor:\",pares)\r\n",
    "print(\"Impares de menor a mayor:\",impares)"
   ],
   "outputs": [
    {
     "output_type": "stream",
     "name": "stdout",
     "text": [
      "Pares de mayor a menor: [46, 70, 90, 110, 226, 240, 248, 268, 308, 448, 504, 558, 592, 682, 704, 810, 900, 916]\n",
      "Impares de menor a mayor: [935, 913, 853, 845, 841, 807, 801, 789, 741, 719, 703, 593, 541, 473, 377, 267, 245, 239, 197, 103, 89, 39]\n"
     ]
    }
   ],
   "metadata": {}
  },
  {
   "cell_type": "code",
   "execution_count": 19,
   "source": [
    "# Utilizar al menos cuatro de las funciones de listas en python en la lista original de 40 elementos.\r\n",
    "\r\n",
    "\r\n",
    "count=listaAleatorios.count(6)\r\n",
    "print(count)\r\n",
    "listaAleatorios.reverse()\r\n",
    "print(listaAleatorios)\r\n",
    "listaAleatorios.sort()\r\n",
    "print(listaAleatorios)\r\n",
    "cuatro=listaAleatorios.pop(4)\r\n",
    "print(cuatro)"
   ],
   "outputs": [
    {
     "output_type": "stream",
     "name": "stdout",
     "text": [
      "0\n",
      "[998, 978, 934, 862, 857, 809, 777, 777, 775, 762, 728, 699, 685, 673, 597, 574, 548, 547, 524, 502, 453, 440, 408, 398, 379, 331, 286, 274, 251, 247, 235, 60, 53, 46, 5]\n",
      "[5, 46, 53, 60, 235, 247, 251, 274, 286, 331, 379, 398, 408, 440, 453, 502, 524, 547, 548, 574, 597, 673, 685, 699, 728, 762, 775, 777, 777, 809, 857, 862, 934, 978, 998]\n",
      "235\n"
     ]
    }
   ],
   "metadata": {}
  }
 ],
 "metadata": {
  "orig_nbformat": 4,
  "language_info": {
   "name": "python",
   "version": "3.9.6",
   "mimetype": "text/x-python",
   "codemirror_mode": {
    "name": "ipython",
    "version": 3
   },
   "pygments_lexer": "ipython3",
   "nbconvert_exporter": "python",
   "file_extension": ".py"
  },
  "kernelspec": {
   "name": "python3",
   "display_name": "Python 3.9.6 64-bit"
  },
  "interpreter": {
   "hash": "1039bb406d0e98032d6395108659664d6dffaac91eaacb0c13025465f2a5d9e9"
  }
 },
 "nbformat": 4,
 "nbformat_minor": 2
}